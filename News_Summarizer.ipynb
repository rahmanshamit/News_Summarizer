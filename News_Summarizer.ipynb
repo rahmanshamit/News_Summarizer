{
 "cells": [
  {
   "cell_type": "code",
   "execution_count": 4,
   "id": "cb66e85b-26aa-4639-a1bc-5487c7ef1408",
   "metadata": {},
   "outputs": [
    {
     "name": "stdout",
     "output_type": "stream",
     "text": [
      "Requirement already satisfied: requests in c:\\users\\shamit\\appdata\\local\\programs\\python\\python312\\lib\\site-packages (2.31.0)\n",
      "Requirement already satisfied: openai in c:\\users\\shamit\\appdata\\local\\programs\\python\\python312\\lib\\site-packages (1.53.0)\n",
      "Requirement already satisfied: charset-normalizer<4,>=2 in c:\\users\\shamit\\appdata\\local\\programs\\python\\python312\\lib\\site-packages (from requests) (3.3.2)\n",
      "Requirement already satisfied: idna<4,>=2.5 in c:\\users\\shamit\\appdata\\local\\programs\\python\\python312\\lib\\site-packages (from requests) (3.4)\n",
      "Requirement already satisfied: urllib3<3,>=1.21.1 in c:\\users\\shamit\\appdata\\local\\programs\\python\\python312\\lib\\site-packages (from requests) (2.0.7)\n",
      "Requirement already satisfied: certifi>=2017.4.17 in c:\\users\\shamit\\appdata\\local\\programs\\python\\python312\\lib\\site-packages (from requests) (2023.7.22)\n",
      "Requirement already satisfied: anyio<5,>=3.5.0 in c:\\users\\shamit\\appdata\\local\\programs\\python\\python312\\lib\\site-packages (from openai) (4.6.2.post1)\n",
      "Requirement already satisfied: distro<2,>=1.7.0 in c:\\users\\shamit\\appdata\\local\\programs\\python\\python312\\lib\\site-packages (from openai) (1.9.0)\n",
      "Requirement already satisfied: httpx<1,>=0.23.0 in c:\\users\\shamit\\appdata\\local\\programs\\python\\python312\\lib\\site-packages (from openai) (0.27.2)\n",
      "Requirement already satisfied: jiter<1,>=0.4.0 in c:\\users\\shamit\\appdata\\local\\programs\\python\\python312\\lib\\site-packages (from openai) (0.7.0)\n",
      "Requirement already satisfied: pydantic<3,>=1.9.0 in c:\\users\\shamit\\appdata\\local\\programs\\python\\python312\\lib\\site-packages (from openai) (2.9.2)\n",
      "Requirement already satisfied: sniffio in c:\\users\\shamit\\appdata\\local\\programs\\python\\python312\\lib\\site-packages (from openai) (1.3.1)\n",
      "Requirement already satisfied: tqdm>4 in c:\\users\\shamit\\appdata\\local\\programs\\python\\python312\\lib\\site-packages (from openai) (4.66.6)\n",
      "Requirement already satisfied: typing-extensions<5,>=4.11 in c:\\users\\shamit\\appdata\\local\\programs\\python\\python312\\lib\\site-packages (from openai) (4.12.2)\n",
      "Requirement already satisfied: httpcore==1.* in c:\\users\\shamit\\appdata\\local\\programs\\python\\python312\\lib\\site-packages (from httpx<1,>=0.23.0->openai) (1.0.6)\n",
      "Requirement already satisfied: h11<0.15,>=0.13 in c:\\users\\shamit\\appdata\\local\\programs\\python\\python312\\lib\\site-packages (from httpcore==1.*->httpx<1,>=0.23.0->openai) (0.14.0)\n",
      "Requirement already satisfied: annotated-types>=0.6.0 in c:\\users\\shamit\\appdata\\local\\programs\\python\\python312\\lib\\site-packages (from pydantic<3,>=1.9.0->openai) (0.7.0)\n",
      "Requirement already satisfied: pydantic-core==2.23.4 in c:\\users\\shamit\\appdata\\local\\programs\\python\\python312\\lib\\site-packages (from pydantic<3,>=1.9.0->openai) (2.23.4)\n",
      "Requirement already satisfied: colorama in c:\\users\\shamit\\appdata\\local\\programs\\python\\python312\\lib\\site-packages (from tqdm>4->openai) (0.4.6)\n"
     ]
    },
    {
     "name": "stderr",
     "output_type": "stream",
     "text": [
      "\n",
      "[notice] A new release of pip is available: 23.2.1 -> 24.3.1\n",
      "[notice] To update, run: python.exe -m pip install --upgrade pip\n"
     ]
    }
   ],
   "source": [
    "!pip install requests openai"
   ]
  },
  {
   "cell_type": "code",
   "execution_count": 3,
   "id": "dfc2b7a1-e53b-494b-b4a9-88e048636358",
   "metadata": {},
   "outputs": [
    {
     "name": "stdout",
     "output_type": "stream",
     "text": [
      "Collecting python-dotenv\n",
      "  Obtaining dependency information for python-dotenv from https://files.pythonhosted.org/packages/6a/3e/b68c118422ec867fa7ab88444e1274aa40681c606d59ac27de5a5588f082/python_dotenv-1.0.1-py3-none-any.whl.metadata\n",
      "  Downloading python_dotenv-1.0.1-py3-none-any.whl.metadata (23 kB)\n",
      "Downloading python_dotenv-1.0.1-py3-none-any.whl (19 kB)\n",
      "Installing collected packages: python-dotenv\n",
      "Successfully installed python-dotenv-1.0.1\n"
     ]
    },
    {
     "name": "stderr",
     "output_type": "stream",
     "text": [
      "\n",
      "[notice] A new release of pip is available: 23.2.1 -> 24.3.1\n",
      "[notice] To update, run: python.exe -m pip install --upgrade pip\n"
     ]
    }
   ],
   "source": [
    "!pip install python-dotenv"
   ]
  },
  {
   "cell_type": "code",
   "execution_count": 7,
   "id": "2f8feb6a-3e95-4de5-8231-5e2cc3c63e17",
   "metadata": {},
   "outputs": [
    {
     "name": "stdout",
     "output_type": "stream",
     "text": [
      "[{'title': 'Of course someone has Doom running on Alarmo now - Eurogamer', 'description': \"Earlier this week, Tom told us Nintendo Alarmo couldn't yet run Doom, but did confirm it could display a picture of a c…\", 'url': 'https://www.eurogamer.net/of-course-someone-has-doom-running-on-alarmo-now', 'publishedAt': '2024-11-02T20:12:54Z'}, {'title': 'Kindle Colorsoft owners complain of a yellow bar on the e-reader’s screen - The Verge', 'description': 'People who’ve ordered Amazon’s color e-reader, the Kindle Colorsoft Signature Edition, say there’s a discolored yellow bar at the bottom of the display.', 'url': 'https://www.theverge.com/2024/11/2/24286289/kindle-colorsoft-yellow-bar-display-e-reader', 'publishedAt': '2024-11-02T20:08:50Z'}, {'title': 'Poll: Are You Happy with Your PS Plus Essential Games for November 2024? - Push Square', 'description': 'Plus or minus?', 'url': 'https://www.pushsquare.com/features/poll-are-you-happy-with-your-ps-plus-essential-games-for-november-2024', 'publishedAt': '2024-11-02T16:00:00Z'}, {'title': 'Amazon Offers AirPods Pro 2 Cheaper Than Prime Day, Looking To Clear Entire Stock By Sunday - Gizmodo', 'description': \"It's $10 less than the price offered during Prime Day.\", 'url': 'https://gizmodo.com/amazon-offers-airpods-pro-2-cheaper-than-prime-day-looking-to-clear-entire-stock-by-sunday-2000519464', 'publishedAt': '2024-11-02T14:10:14Z'}, {'title': 'Assassin\\'s Creed Shadows delay necessary to change \"narrative\" of Ubisoft\\'s \"inconsistency in quality\" - Eurogamer', 'description': \"Assassin's Creed boss Marc-Alexis Coté has discussed the recent shock decision to delay the launch of Assassin's Creed …\", 'url': 'https://www.eurogamer.net/assassins-creed-shadows-delay-necessary-to-change-narrative-of-ubisofts-inconsistency-in-quality', 'publishedAt': '2024-11-02T13:21:42Z'}]\n"
     ]
    }
   ],
   "source": [
    "import os\n",
    "import requests\n",
    "from dotenv import load_dotenv\n",
    "\n",
    "# Load .env file\n",
    "load_dotenv()\n",
    "\n",
    "# Access the API key\n",
    "news_api_key = os.getenv(\"NEWS_API_KEY\")\n",
    "\n",
    "def fetch_news(topic=\"technology\", language=\"en\"):\n",
    "    \"\"\"\n",
    "    Fetches the latest news articles from NewsAPI based on topic.\n",
    "    \n",
    "    Parameters:\n",
    "        topic (str): Category of news to fetch.\n",
    "        \n",
    "    Returns:\n",
    "        list: A list of dictionaries, each containing details of a news article.\n",
    "    \"\"\"\n",
    "    \n",
    "    url = \"https://newsapi.org/v2/top-headlines\"\n",
    "    params = {\n",
    "        \"apiKey\": news_api_key,\n",
    "        \"category\": \"technology\"\n",
    "    }\n",
    "    \n",
    "    # Make the request to NewsAPI\n",
    "    response = requests.get(url, params=params)\n",
    "    \n",
    "    # Check for successful response\n",
    "    if response.status_code == 200:\n",
    "        data = response.json()\n",
    "        # Extract articles from the response\n",
    "        articles = data.get(\"articles\", [])\n",
    "        # Format the articles in a simpler structure\n",
    "        formatted_articles = [\n",
    "            {\n",
    "                \"title\": article[\"title\"],\n",
    "                \"description\": article[\"description\"],\n",
    "                \"url\": article[\"url\"],\n",
    "                \"publishedAt\": article[\"publishedAt\"]\n",
    "            }\n",
    "            for article in articles\n",
    "        ]\n",
    "        return formatted_articles\n",
    "    else:\n",
    "        # Handle errors and display a message if the request fails\n",
    "        print(f\"Error fetching news: {response.status_code}\")\n",
    "        return []\n",
    "\n",
    "# Test the function to fetch tech news\n",
    "news_articles = fetch_news()\n",
    "print(news_articles[:5])  # Print the first 5 articles for testing"
   ]
  },
  {
   "cell_type": "code",
   "execution_count": 8,
   "id": "4cab39cc-eba2-44a0-bc30-9e5c3a5a0586",
   "metadata": {},
   "outputs": [
    {
     "name": "stdout",
     "output_type": "stream",
     "text": [
      "Error during summarization: 400 Client Error: Bad Request for url: https://api-inference.huggingface.co/models/facebook/bart-large-cnn\n",
      "Summary: \n"
     ]
    }
   ],
   "source": [
    "# Load Hugging Face API key from environment variable\n",
    "huggingface_api_key = os.getenv(\"HUGGINGFACE_API_KEY\")\n",
    "\n",
    "def summarize_text_with_huggingface(text):\n",
    "    \"\"\"\n",
    "    Summarizes the given text using Hugging Face's Inference API for a summarization model.\n",
    "    \n",
    "    Parameters:\n",
    "        text (str): The text to be summarized.\n",
    "        \n",
    "    Returns:\n",
    "        str: A summarized version of the input text.\n",
    "    \"\"\"\n",
    "    # Define the Hugging Face model endpoint for summarization\n",
    "    api_url = \"https://api-inference.huggingface.co/models/facebook/bart-large-cnn\"\n",
    "    headers = {\"Authorization\": f\"Bearer {huggingface_api_key}\"}\n",
    "    payload = {\"inputs\": text}\n",
    "    \n",
    "    try:\n",
    "        # Make the API request\n",
    "        response = requests.post(api_url, headers=headers, json=payload)\n",
    "        response.raise_for_status()\n",
    "        \n",
    "        # Extract the summary from the response\n",
    "        summary = response.json()[0][\"summary_text\"]\n",
    "        return summary\n",
    "    except requests.exceptions.RequestException as e:\n",
    "        print(f\"Error during summarization: {e}\")\n",
    "        return \"\"\n",
    "\n",
    "# Test the function with a sample news article text\n",
    "sample_text = \"\"\"\n",
    "Apple has unveiled its latest iPhone model, featuring a more powerful chip and a revamped camera system. \n",
    "The new device, which was announced at the company's annual event, promises better battery life and faster processing speeds. \n",
    "Analysts believe these upgrades could help Apple maintain its competitive edge in the smartphone market.\n",
    "\"\"\"\n",
    "summary = summarize_text_with_huggingface(sample_text)\n",
    "print(\"Summary:\", summary)"
   ]
  },
  {
   "cell_type": "code",
   "execution_count": null,
   "id": "f98a47d4-6f42-422d-a0ad-4b6f073e7fb2",
   "metadata": {},
   "outputs": [],
   "source": []
  }
 ],
 "metadata": {
  "kernelspec": {
   "display_name": "Python 3 (ipykernel)",
   "language": "python",
   "name": "python3"
  },
  "language_info": {
   "codemirror_mode": {
    "name": "ipython",
    "version": 3
   },
   "file_extension": ".py",
   "mimetype": "text/x-python",
   "name": "python",
   "nbconvert_exporter": "python",
   "pygments_lexer": "ipython3",
   "version": "3.12.0"
  }
 },
 "nbformat": 4,
 "nbformat_minor": 5
}
