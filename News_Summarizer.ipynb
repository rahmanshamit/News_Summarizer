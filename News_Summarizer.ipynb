{
 "cells": [
  {
   "cell_type": "code",
   "execution_count": 27,
   "id": "cb66e85b-26aa-4639-a1bc-5487c7ef1408",
   "metadata": {},
   "outputs": [
    {
     "name": "stdout",
     "output_type": "stream",
     "text": [
      "Requirement already satisfied: requests in c:\\users\\shamit\\appdata\\local\\programs\\python\\python312\\lib\\site-packages (2.31.0)\n",
      "Requirement already satisfied: charset-normalizer<4,>=2 in c:\\users\\shamit\\appdata\\local\\programs\\python\\python312\\lib\\site-packages (from requests) (3.3.2)\n",
      "Requirement already satisfied: idna<4,>=2.5 in c:\\users\\shamit\\appdata\\local\\programs\\python\\python312\\lib\\site-packages (from requests) (3.4)\n",
      "Requirement already satisfied: urllib3<3,>=1.21.1 in c:\\users\\shamit\\appdata\\local\\programs\\python\\python312\\lib\\site-packages (from requests) (2.0.7)\n",
      "Requirement already satisfied: certifi>=2017.4.17 in c:\\users\\shamit\\appdata\\local\\programs\\python\\python312\\lib\\site-packages (from requests) (2023.7.22)\n"
     ]
    },
    {
     "name": "stderr",
     "output_type": "stream",
     "text": [
      "\n",
      "[notice] A new release of pip is available: 23.2.1 -> 24.3.1\n",
      "[notice] To update, run: python.exe -m pip install --upgrade pip\n"
     ]
    }
   ],
   "source": [
    "!pip install requests"
   ]
  },
  {
   "cell_type": "code",
   "execution_count": 28,
   "id": "dfc2b7a1-e53b-494b-b4a9-88e048636358",
   "metadata": {},
   "outputs": [
    {
     "name": "stdout",
     "output_type": "stream",
     "text": [
      "Requirement already satisfied: python-dotenv in c:\\users\\shamit\\appdata\\local\\programs\\python\\python312\\lib\\site-packages (1.0.1)\n"
     ]
    },
    {
     "name": "stderr",
     "output_type": "stream",
     "text": [
      "\n",
      "[notice] A new release of pip is available: 23.2.1 -> 24.3.1\n",
      "[notice] To update, run: python.exe -m pip install --upgrade pip\n"
     ]
    }
   ],
   "source": [
    "!pip install python-dotenv"
   ]
  },
  {
   "cell_type": "code",
   "execution_count": 29,
   "id": "2f8feb6a-3e95-4de5-8231-5e2cc3c63e17",
   "metadata": {},
   "outputs": [],
   "source": [
    "import os\n",
    "import requests\n",
    "from dotenv import load_dotenv\n",
    "\n",
    "# Load .env file\n",
    "load_dotenv()\n",
    "\n",
    "# Access the API key\n",
    "news_api_key = os.getenv(\"NEWS_API_KEY\")\n",
    "\n",
    "def fetch_news(topic=\"technology\", language=\"en\", page_size=5):\n",
    "    \"\"\"\n",
    "    Fetches the latest news articles from NewsAPI based on topic and language, limited to a specific number of articles.\n",
    "    \n",
    "    Parameters:\n",
    "        topic (str): Category of news to fetch (default is \"technology\").\n",
    "        language (str): Language code for the articles (default is \"en\" for English).\n",
    "        page_size (int): Number of articles to fetch (default is 5).\n",
    "        \n",
    "    Returns:\n",
    "        list: A list of dictionaries, each containing details of a news article.\n",
    "    \"\"\"\n",
    "    url = \"https://newsapi.org/v2/top-headlines\"\n",
    "    params = {\n",
    "        \"apiKey\": news_api_key,\n",
    "        \"category\": topic,\n",
    "        \"language\": language,\n",
    "        \"pageSize\": page_size  # Limit number of articles\n",
    "    }\n",
    "    \n",
    "    try:\n",
    "        response = requests.get(url, params=params)\n",
    "        response.raise_for_status()  # Raise an exception for HTTP errors\n",
    "        \n",
    "        data = response.json()\n",
    "        articles = data.get(\"articles\", [])\n",
    "        \n",
    "        formatted_articles = [\n",
    "            {\n",
    "                \"title\": article[\"title\"],\n",
    "                \"description\": article[\"description\"],\n",
    "                \"url\": article[\"url\"],\n",
    "                \"publishedAt\": article[\"publishedAt\"]\n",
    "            }\n",
    "            for article in articles\n",
    "        ]\n",
    "        return formatted_articles\n",
    "    \n",
    "    except requests.exceptions.RequestException as e:\n",
    "        print(f\"Error fetching news: {e}\")\n",
    "        return []\n",
    "    except ValueError as e:\n",
    "        print(\"Error processing JSON response:\", e)\n",
    "        return []"
   ]
  },
  {
   "cell_type": "code",
   "execution_count": 30,
   "id": "4cab39cc-eba2-44a0-bc30-9e5c3a5a0586",
   "metadata": {},
   "outputs": [],
   "source": [
    "# Load Hugging Face API key from environment variable\n",
    "huggingface_api_key = os.getenv(\"HUGGINGFACE_API_KEY\")\n",
    "\n",
    "def summarize_text_with_huggingface(text):\n",
    "    \"\"\"\n",
    "    Summarizes the given text using Hugging Face's Inference API for a summarization model.\n",
    "    \n",
    "    Parameters:\n",
    "        text (str): The text to be summarized.\n",
    "        \n",
    "    Returns:\n",
    "        str: A summarized version of the input text.\n",
    "    \"\"\"\n",
    "    # Define the Hugging Face model endpoint for summarization\n",
    "    api_url = \"https://api-inference.huggingface.co/models/facebook/bart-large-cnn\"\n",
    "    headers = {\"Authorization\": f\"Bearer {huggingface_api_key}\"}\n",
    "    payload = {\"inputs\": text}\n",
    "    \n",
    "    try:\n",
    "        # Make the API request\n",
    "        response = requests.post(api_url, headers=headers, json=payload)\n",
    "        response.raise_for_status()\n",
    "        \n",
    "        # Extract the summary from the response\n",
    "        summary = response.json()[0][\"summary_text\"]\n",
    "        return summary\n",
    "    except requests.exceptions.RequestException as e:\n",
    "        print(f\"Error during summarization: {e}\")\n",
    "        return \"\""
   ]
  },
  {
   "cell_type": "code",
   "execution_count": 31,
   "id": "6806e359-8fa4-4442-991f-c82285a6c587",
   "metadata": {},
   "outputs": [
    {
     "name": "stdout",
     "output_type": "stream",
     "text": [
      "Title: PSA: don't stand still in Black Ops 6's Zombie mode - Eurogamer\n",
      "Summary: Call of Duty Black Ops 6 players are calling on Activision to suspend the over zealous AFK timer in its Zombie mode. PSA: don't stand still in Black ops 6's Zombie mode - Eurogamer. Call of Duty 6 is out now on PS4, Xbox One and PC.\n",
      "Read more: https://www.eurogamer.net/psa-dont-stand-still-in-black-ops-6s-zombie-mode\n",
      "\n",
      "--------------------------------------------------------------------------------\n",
      "\n",
      "Title: Apple’s new M4 Max is the fastest CPU on the market, and we haven’t even seen M4 Ultra - 9to5Mac\n",
      "Summary: Apple's new M4 Max is the fastest CPU on the market, and we haven't even seen M4 Ultra. Apple unveiled its new MacBook Pro models this week, with M4, M4 Pro, and M4Max chipsets. The new M 4...\n",
      "Read more: https://9to5mac.com/2024/11/02/apple-m4-max-geekbench-macbook-pro/\n",
      "\n",
      "--------------------------------------------------------------------------------\n",
      "\n",
      "Title: Dragon Age: The Veilguard DLC plans unknown as BioWare shifts \"full attention\" to next Mass Effect game - Eurogamer\n",
      "Summary: There are currently no plans for Dragon Age: The Veilguard DLC. Plans unknown as BioWare shifts \"full attention\" to next Mass Effect game. There is no word on when the DLC will be released. There are no plans to release the DLC in the near future.\n",
      "Read more: https://www.eurogamer.net/dragon-age-the-veilguard-dlc-plans-unknown-as-bioware-shifts-full-attention-to-next-mass-effect-game\n",
      "\n",
      "--------------------------------------------------------------------------------\n",
      "\n",
      "Title: Of course someone has Doom running on Alarmo now - Eurogamer\n",
      "Summary: Someone has Doom running on Alarmo now - Eurogamer. Earlier this week, Tom told us Nintendo Alarma couldn't yet run Doom, but did confirm it could display a picture of a c… of a Doom game. Of course someone has Doomrunning on Alarmso now.\n",
      "Read more: https://www.eurogamer.net/of-course-someone-has-doom-running-on-alarmo-now\n",
      "\n",
      "--------------------------------------------------------------------------------\n",
      "\n",
      "Title: Kindle Colorsoft owners complain of a yellow bar on the e-reader’s screen - The Verge\n",
      "Summary:  Kindle Colorsoft owners complain of a yellow bar on the e-reader’s screen - The Verge. People who’ve ordered the Kindle Color soft Signature Edition say there's a discolored yellow bar at the bottom of the display. They say the yellow bar appears on the screen when the device is turned on.\n",
      "Read more: https://www.theverge.com/2024/11/2/24286289/kindle-colorsoft-yellow-bar-display-e-reader\n",
      "\n",
      "--------------------------------------------------------------------------------\n",
      "\n"
     ]
    }
   ],
   "source": [
    "def fetch_and_summarize_news(topic=\"technology\", language=\"en\"):\n",
    "    \"\"\"\n",
    "    Fetches the latest news articles on a given topic and provides summaries.\n",
    "    \n",
    "    Parameters:\n",
    "        topic (str): Category of news to fetch (default is \"technology\").\n",
    "        language (str): Language code for the articles (default is \"en\" for English).\n",
    "        \n",
    "    Returns:\n",
    "        list: A list of dictionaries, each containing the title, summary, and link to a news article.\n",
    "    \"\"\"\n",
    "    # Fetch the latest news articles\n",
    "    articles = fetch_news(topic=topic, language=language)\n",
    "    \n",
    "    summarized_articles = []\n",
    "    \n",
    "    # Summarize each article's content\n",
    "    for article in articles:\n",
    "        title = article['title']\n",
    "        description = article['description']\n",
    "        url = article['url']\n",
    "        \n",
    "        # Combine title and description for a more comprehensive summary\n",
    "        if description:\n",
    "            text_to_summarize = f\"{title}. {description}\"\n",
    "        else:\n",
    "            text_to_summarize = title  # Use title alone if description is missing\n",
    "        \n",
    "        # Get summary\n",
    "        summary = summarize_text_with_huggingface(text_to_summarize)\n",
    "        \n",
    "        # Store summarized article\n",
    "        summarized_articles.append({\n",
    "            \"title\": title,\n",
    "            \"summary\": summary,\n",
    "            \"url\": url\n",
    "        })\n",
    "    \n",
    "    return summarized_articles\n",
    "\n",
    "# Test the complete function\n",
    "news_summaries = fetch_and_summarize_news()"
   ]
  },
  {
   "cell_type": "code",
   "execution_count": 33,
   "id": "8219397d-c138-4708-8108-0ce5aa692612",
   "metadata": {},
   "outputs": [
    {
     "data": {
      "text/markdown": [
       "**Title:** [PSA: don't stand still in Black Ops 6's Zombie mode - Eurogamer](https://www.eurogamer.net/psa-dont-stand-still-in-black-ops-6s-zombie-mode)"
      ],
      "text/plain": [
       "<IPython.core.display.Markdown object>"
      ]
     },
     "metadata": {},
     "output_type": "display_data"
    },
    {
     "data": {
      "text/markdown": [
       "**Summary:** Call of Duty Black Ops 6 players are calling on Activision to suspend the over zealous AFK timer in its Zombie mode. PSA: don't stand still in Black ops 6's Zombie mode - Eurogamer. Call of Duty 6 is out now on PS4, Xbox One and PC."
      ],
      "text/plain": [
       "<IPython.core.display.Markdown object>"
      ]
     },
     "metadata": {},
     "output_type": "display_data"
    },
    {
     "data": {
      "text/markdown": [
       "---"
      ],
      "text/plain": [
       "<IPython.core.display.Markdown object>"
      ]
     },
     "metadata": {},
     "output_type": "display_data"
    },
    {
     "data": {
      "text/markdown": [
       "**Title:** [Apple’s new M4 Max is the fastest CPU on the market, and we haven’t even seen M4 Ultra - 9to5Mac](https://9to5mac.com/2024/11/02/apple-m4-max-geekbench-macbook-pro/)"
      ],
      "text/plain": [
       "<IPython.core.display.Markdown object>"
      ]
     },
     "metadata": {},
     "output_type": "display_data"
    },
    {
     "data": {
      "text/markdown": [
       "**Summary:** Apple's new M4 Max is the fastest CPU on the market, and we haven't even seen M4 Ultra. Apple unveiled its new MacBook Pro models this week, with M4, M4 Pro, and M4Max chipsets. The new M 4..."
      ],
      "text/plain": [
       "<IPython.core.display.Markdown object>"
      ]
     },
     "metadata": {},
     "output_type": "display_data"
    },
    {
     "data": {
      "text/markdown": [
       "---"
      ],
      "text/plain": [
       "<IPython.core.display.Markdown object>"
      ]
     },
     "metadata": {},
     "output_type": "display_data"
    },
    {
     "data": {
      "text/markdown": [
       "**Title:** [Dragon Age: The Veilguard DLC plans unknown as BioWare shifts \"full attention\" to next Mass Effect game - Eurogamer](https://www.eurogamer.net/dragon-age-the-veilguard-dlc-plans-unknown-as-bioware-shifts-full-attention-to-next-mass-effect-game)"
      ],
      "text/plain": [
       "<IPython.core.display.Markdown object>"
      ]
     },
     "metadata": {},
     "output_type": "display_data"
    },
    {
     "data": {
      "text/markdown": [
       "**Summary:** There are currently no plans for Dragon Age: The Veilguard DLC. Plans unknown as BioWare shifts \"full attention\" to next Mass Effect game. There is no word on when the DLC will be released. There are no plans to release the DLC in the near future."
      ],
      "text/plain": [
       "<IPython.core.display.Markdown object>"
      ]
     },
     "metadata": {},
     "output_type": "display_data"
    },
    {
     "data": {
      "text/markdown": [
       "---"
      ],
      "text/plain": [
       "<IPython.core.display.Markdown object>"
      ]
     },
     "metadata": {},
     "output_type": "display_data"
    },
    {
     "data": {
      "text/markdown": [
       "**Title:** [Of course someone has Doom running on Alarmo now - Eurogamer](https://www.eurogamer.net/of-course-someone-has-doom-running-on-alarmo-now)"
      ],
      "text/plain": [
       "<IPython.core.display.Markdown object>"
      ]
     },
     "metadata": {},
     "output_type": "display_data"
    },
    {
     "data": {
      "text/markdown": [
       "**Summary:** Someone has Doom running on Alarmo now - Eurogamer. Earlier this week, Tom told us Nintendo Alarma couldn't yet run Doom, but did confirm it could display a picture of a c… of a Doom game. Of course someone has Doomrunning on Alarmso now."
      ],
      "text/plain": [
       "<IPython.core.display.Markdown object>"
      ]
     },
     "metadata": {},
     "output_type": "display_data"
    },
    {
     "data": {
      "text/markdown": [
       "---"
      ],
      "text/plain": [
       "<IPython.core.display.Markdown object>"
      ]
     },
     "metadata": {},
     "output_type": "display_data"
    },
    {
     "data": {
      "text/markdown": [
       "**Title:** [Kindle Colorsoft owners complain of a yellow bar on the e-reader’s screen - The Verge](https://www.theverge.com/2024/11/2/24286289/kindle-colorsoft-yellow-bar-display-e-reader)"
      ],
      "text/plain": [
       "<IPython.core.display.Markdown object>"
      ]
     },
     "metadata": {},
     "output_type": "display_data"
    },
    {
     "data": {
      "text/markdown": [
       "**Summary:**  Kindle Colorsoft owners complain of a yellow bar on the e-reader’s screen - The Verge. People who’ve ordered the Kindle Color soft Signature Edition say there's a discolored yellow bar at the bottom of the display. They say the yellow bar appears on the screen when the device is turned on."
      ],
      "text/plain": [
       "<IPython.core.display.Markdown object>"
      ]
     },
     "metadata": {},
     "output_type": "display_data"
    },
    {
     "data": {
      "text/markdown": [
       "---"
      ],
      "text/plain": [
       "<IPython.core.display.Markdown object>"
      ]
     },
     "metadata": {},
     "output_type": "display_data"
    }
   ],
   "source": [
    "from IPython.display import display, Markdown\n",
    "\n",
    "def display_summaries(news_summaries):\n",
    "    \"\"\"\n",
    "    Displays a list of summarized articles in a structured format using Markdown.\n",
    "    \n",
    "    Parameters:\n",
    "        summarized_articles (list): List of dictionaries containing title, summary, and URL for each article.\n",
    "    \"\"\"\n",
    "    for article in news_summaries:\n",
    "        title = article[\"title\"]\n",
    "        summary = article[\"summary\"]\n",
    "        url = article[\"url\"]\n",
    "        \n",
    "        # Display article information in Markdown format\n",
    "        display(Markdown(f\"**Title:** [{title}]({url})\"))\n",
    "        display(Markdown(f\"**Summary:** {summary}\"))\n",
    "        display(Markdown(\"---\"))  # Divider line between articles\n",
    "\n",
    "# Run the display function on the summarized articles\n",
    "display_summaries(news_summaries)"
   ]
  },
  {
   "cell_type": "code",
   "execution_count": null,
   "id": "2eb5b539-f1a5-4bc4-8b00-c4f6fcbe7e12",
   "metadata": {},
   "outputs": [],
   "source": []
  }
 ],
 "metadata": {
  "kernelspec": {
   "display_name": "Python 3 (ipykernel)",
   "language": "python",
   "name": "python3"
  },
  "language_info": {
   "codemirror_mode": {
    "name": "ipython",
    "version": 3
   },
   "file_extension": ".py",
   "mimetype": "text/x-python",
   "name": "python",
   "nbconvert_exporter": "python",
   "pygments_lexer": "ipython3",
   "version": "3.12.0"
  }
 },
 "nbformat": 4,
 "nbformat_minor": 5
}
