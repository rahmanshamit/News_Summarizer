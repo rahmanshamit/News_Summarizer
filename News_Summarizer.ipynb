{
 "cells": [
  {
   "cell_type": "code",
   "execution_count": 9,
   "id": "cb66e85b-26aa-4639-a1bc-5487c7ef1408",
   "metadata": {},
   "outputs": [
    {
     "name": "stdout",
     "output_type": "stream",
     "text": [
      "Requirement already satisfied: requests in c:\\users\\shamit\\appdata\\local\\programs\\python\\python312\\lib\\site-packages (2.31.0)\n",
      "Requirement already satisfied: openai in c:\\users\\shamit\\appdata\\local\\programs\\python\\python312\\lib\\site-packages (1.53.0)\n",
      "Requirement already satisfied: charset-normalizer<4,>=2 in c:\\users\\shamit\\appdata\\local\\programs\\python\\python312\\lib\\site-packages (from requests) (3.3.2)\n",
      "Requirement already satisfied: idna<4,>=2.5 in c:\\users\\shamit\\appdata\\local\\programs\\python\\python312\\lib\\site-packages (from requests) (3.4)\n",
      "Requirement already satisfied: urllib3<3,>=1.21.1 in c:\\users\\shamit\\appdata\\local\\programs\\python\\python312\\lib\\site-packages (from requests) (2.0.7)\n",
      "Requirement already satisfied: certifi>=2017.4.17 in c:\\users\\shamit\\appdata\\local\\programs\\python\\python312\\lib\\site-packages (from requests) (2023.7.22)\n",
      "Requirement already satisfied: anyio<5,>=3.5.0 in c:\\users\\shamit\\appdata\\local\\programs\\python\\python312\\lib\\site-packages (from openai) (4.6.2.post1)\n",
      "Requirement already satisfied: distro<2,>=1.7.0 in c:\\users\\shamit\\appdata\\local\\programs\\python\\python312\\lib\\site-packages (from openai) (1.9.0)\n",
      "Requirement already satisfied: httpx<1,>=0.23.0 in c:\\users\\shamit\\appdata\\local\\programs\\python\\python312\\lib\\site-packages (from openai) (0.27.2)\n",
      "Requirement already satisfied: jiter<1,>=0.4.0 in c:\\users\\shamit\\appdata\\local\\programs\\python\\python312\\lib\\site-packages (from openai) (0.7.0)\n",
      "Requirement already satisfied: pydantic<3,>=1.9.0 in c:\\users\\shamit\\appdata\\local\\programs\\python\\python312\\lib\\site-packages (from openai) (2.9.2)\n",
      "Requirement already satisfied: sniffio in c:\\users\\shamit\\appdata\\local\\programs\\python\\python312\\lib\\site-packages (from openai) (1.3.1)\n",
      "Requirement already satisfied: tqdm>4 in c:\\users\\shamit\\appdata\\local\\programs\\python\\python312\\lib\\site-packages (from openai) (4.66.6)\n",
      "Requirement already satisfied: typing-extensions<5,>=4.11 in c:\\users\\shamit\\appdata\\local\\programs\\python\\python312\\lib\\site-packages (from openai) (4.12.2)\n",
      "Requirement already satisfied: httpcore==1.* in c:\\users\\shamit\\appdata\\local\\programs\\python\\python312\\lib\\site-packages (from httpx<1,>=0.23.0->openai) (1.0.6)\n",
      "Requirement already satisfied: h11<0.15,>=0.13 in c:\\users\\shamit\\appdata\\local\\programs\\python\\python312\\lib\\site-packages (from httpcore==1.*->httpx<1,>=0.23.0->openai) (0.14.0)\n",
      "Requirement already satisfied: annotated-types>=0.6.0 in c:\\users\\shamit\\appdata\\local\\programs\\python\\python312\\lib\\site-packages (from pydantic<3,>=1.9.0->openai) (0.7.0)\n",
      "Requirement already satisfied: pydantic-core==2.23.4 in c:\\users\\shamit\\appdata\\local\\programs\\python\\python312\\lib\\site-packages (from pydantic<3,>=1.9.0->openai) (2.23.4)\n",
      "Requirement already satisfied: colorama in c:\\users\\shamit\\appdata\\local\\programs\\python\\python312\\lib\\site-packages (from tqdm>4->openai) (0.4.6)\n"
     ]
    },
    {
     "name": "stderr",
     "output_type": "stream",
     "text": [
      "\n",
      "[notice] A new release of pip is available: 23.2.1 -> 24.3.1\n",
      "[notice] To update, run: python.exe -m pip install --upgrade pip\n"
     ]
    }
   ],
   "source": [
    "!pip install requests openai"
   ]
  },
  {
   "cell_type": "code",
   "execution_count": 10,
   "id": "dfc2b7a1-e53b-494b-b4a9-88e048636358",
   "metadata": {},
   "outputs": [
    {
     "name": "stdout",
     "output_type": "stream",
     "text": [
      "Requirement already satisfied: python-dotenv in c:\\users\\shamit\\appdata\\local\\programs\\python\\python312\\lib\\site-packages (1.0.1)\n"
     ]
    },
    {
     "name": "stderr",
     "output_type": "stream",
     "text": [
      "\n",
      "[notice] A new release of pip is available: 23.2.1 -> 24.3.1\n",
      "[notice] To update, run: python.exe -m pip install --upgrade pip\n"
     ]
    }
   ],
   "source": [
    "!pip install python-dotenv"
   ]
  },
  {
   "cell_type": "code",
   "execution_count": 11,
   "id": "2f8feb6a-3e95-4de5-8231-5e2cc3c63e17",
   "metadata": {},
   "outputs": [
    {
     "name": "stdout",
     "output_type": "stream",
     "text": [
      "[{'title': \"PSA: don't stand still in Black Ops 6's Zombie mode - Eurogamer\", 'description': 'Call of Duty Black Ops 6 players are calling on Activision to suspend the over zealous AFK timer in its Zombie mode.', 'url': 'https://www.eurogamer.net/psa-dont-stand-still-in-black-ops-6s-zombie-mode', 'publishedAt': '2024-11-02T22:24:16Z'}, {'title': 'Apple’s new M4 Max is the fastest CPU on the market, and we haven’t even seen M4 Ultra - 9to5Mac', 'description': 'Apple unveiled its new MacBook Pro models this week, with M4, M4 Pro, and M4 Max chipsets. The new M4...', 'url': 'https://9to5mac.com/2024/11/02/apple-m4-max-geekbench-macbook-pro/', 'publishedAt': '2024-11-02T22:00:00Z'}, {'title': 'Dragon Age: The Veilguard DLC plans unknown as BioWare shifts \"full attention\" to next Mass Effect game - Eurogamer', 'description': 'There are currently no plans for Dragon Age: The Veilguard DLC.', 'url': 'https://www.eurogamer.net/dragon-age-the-veilguard-dlc-plans-unknown-as-bioware-shifts-full-attention-to-next-mass-effect-game', 'publishedAt': '2024-11-02T21:00:20Z'}, {'title': 'Of course someone has Doom running on Alarmo now - Eurogamer', 'description': \"Earlier this week, Tom told us Nintendo Alarmo couldn't yet run Doom, but did confirm it could display a picture of a c…\", 'url': 'https://www.eurogamer.net/of-course-someone-has-doom-running-on-alarmo-now', 'publishedAt': '2024-11-02T20:12:54Z'}, {'title': 'Kindle Colorsoft owners complain of a yellow bar on the e-reader’s screen - The Verge', 'description': 'People who’ve ordered Amazon’s color e-reader, the Kindle Colorsoft Signature Edition, say there’s a discolored yellow bar at the bottom of the display.', 'url': 'https://www.theverge.com/2024/11/2/24286289/kindle-colorsoft-yellow-bar-display-e-reader', 'publishedAt': '2024-11-02T20:08:50Z'}]\n"
     ]
    }
   ],
   "source": [
    "import os\n",
    "import requests\n",
    "from dotenv import load_dotenv\n",
    "\n",
    "# Load .env file\n",
    "load_dotenv()\n",
    "\n",
    "# Access the API key\n",
    "news_api_key = os.getenv(\"NEWS_API_KEY\")\n",
    "\n",
    "def fetch_news(topic=\"technology\", language=\"en\"):\n",
    "    \"\"\"\n",
    "    Fetches the latest news articles from NewsAPI based on topic.\n",
    "    \n",
    "    Parameters:\n",
    "        topic (str): Category of news to fetch.\n",
    "        \n",
    "    Returns:\n",
    "        list: A list of dictionaries, each containing details of a news article.\n",
    "    \"\"\"\n",
    "    \n",
    "    url = \"https://newsapi.org/v2/top-headlines\"\n",
    "    params = {\n",
    "        \"apiKey\": news_api_key,\n",
    "        \"category\": \"technology\"\n",
    "    }\n",
    "    \n",
    "    # Make the request to NewsAPI\n",
    "    response = requests.get(url, params=params)\n",
    "    \n",
    "    # Check for successful response\n",
    "    if response.status_code == 200:\n",
    "        data = response.json()\n",
    "        # Extract articles from the response\n",
    "        articles = data.get(\"articles\", [])\n",
    "        # Format the articles in a simpler structure\n",
    "        formatted_articles = [\n",
    "            {\n",
    "                \"title\": article[\"title\"],\n",
    "                \"description\": article[\"description\"],\n",
    "                \"url\": article[\"url\"],\n",
    "                \"publishedAt\": article[\"publishedAt\"]\n",
    "            }\n",
    "            for article in articles\n",
    "        ]\n",
    "        return formatted_articles\n",
    "    else:\n",
    "        # Handle errors and display a message if the request fails\n",
    "        print(f\"Error fetching news: {response.status_code}\")\n",
    "        return []\n",
    "\n",
    "# Test the function to fetch tech news\n",
    "news_articles = fetch_news()\n",
    "print(news_articles[:5])  # Print the first 5 articles for testing"
   ]
  },
  {
   "cell_type": "code",
   "execution_count": 12,
   "id": "4cab39cc-eba2-44a0-bc30-9e5c3a5a0586",
   "metadata": {},
   "outputs": [
    {
     "name": "stdout",
     "output_type": "stream",
     "text": [
      "Summary: The new device promises better battery life and faster processing speeds. Analysts believe these upgrades could help Apple maintain its competitive edge in the smartphone market. The iPhone 6 is expected to go on sale later this year in the U.S. and in other countries. It will be available in black and white for the first time and will cost $649.\n"
     ]
    }
   ],
   "source": [
    "# Load Hugging Face API key from environment variable\n",
    "huggingface_api_key = os.getenv(\"HUGGINGFACE_API_KEY\")\n",
    "\n",
    "def summarize_text_with_huggingface(text):\n",
    "    \"\"\"\n",
    "    Summarizes the given text using Hugging Face's Inference API for a summarization model.\n",
    "    \n",
    "    Parameters:\n",
    "        text (str): The text to be summarized.\n",
    "        \n",
    "    Returns:\n",
    "        str: A summarized version of the input text.\n",
    "    \"\"\"\n",
    "    # Define the Hugging Face model endpoint for summarization\n",
    "    api_url = \"https://api-inference.huggingface.co/models/facebook/bart-large-cnn\"\n",
    "    headers = {\"Authorization\": f\"Bearer {huggingface_api_key}\"}\n",
    "    payload = {\"inputs\": text}\n",
    "    \n",
    "    try:\n",
    "        # Make the API request\n",
    "        response = requests.post(api_url, headers=headers, json=payload)\n",
    "        response.raise_for_status()\n",
    "        \n",
    "        # Extract the summary from the response\n",
    "        summary = response.json()[0][\"summary_text\"]\n",
    "        return summary\n",
    "    except requests.exceptions.RequestException as e:\n",
    "        print(f\"Error during summarization: {e}\")\n",
    "        return \"\"\n",
    "\n",
    "# Test the function with a sample news article text\n",
    "sample_text = \"\"\"\n",
    "Apple has unveiled its latest iPhone model, featuring a more powerful chip and a revamped camera system. \n",
    "The new device, which was announced at the company's annual event, promises better battery life and faster processing speeds. \n",
    "Analysts believe these upgrades could help Apple maintain its competitive edge in the smartphone market.\n",
    "\"\"\"\n",
    "summary = summarize_text_with_huggingface(sample_text)\n",
    "print(\"Summary:\", summary)"
   ]
  },
  {
   "cell_type": "code",
   "execution_count": null,
   "id": "f98a47d4-6f42-422d-a0ad-4b6f073e7fb2",
   "metadata": {},
   "outputs": [],
   "source": []
  }
 ],
 "metadata": {
  "kernelspec": {
   "display_name": "Python 3 (ipykernel)",
   "language": "python",
   "name": "python3"
  },
  "language_info": {
   "codemirror_mode": {
    "name": "ipython",
    "version": 3
   },
   "file_extension": ".py",
   "mimetype": "text/x-python",
   "name": "python",
   "nbconvert_exporter": "python",
   "pygments_lexer": "ipython3",
   "version": "3.12.0"
  }
 },
 "nbformat": 4,
 "nbformat_minor": 5
}
